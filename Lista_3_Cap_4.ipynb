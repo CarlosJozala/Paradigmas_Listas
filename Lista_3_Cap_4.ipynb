{
  "nbformat": 4,
  "nbformat_minor": 0,
  "metadata": {
    "colab": {
      "provenance": [],
      "authorship_tag": "ABX9TyO4ih4rGXa3aRLn4TNh4SFp",
      "include_colab_link": true
    },
    "kernelspec": {
      "name": "python3",
      "display_name": "Python 3"
    },
    "language_info": {
      "name": "python"
    }
  },
  "cells": [
    {
      "cell_type": "markdown",
      "metadata": {
        "id": "view-in-github",
        "colab_type": "text"
      },
      "source": [
        "<a href=\"https://colab.research.google.com/github/CarlosJozala/Paradigmas_em_Python_Listas/blob/main/Lista_3_Cap_4.ipynb\" target=\"_parent\"><img src=\"https://colab.research.google.com/assets/colab-badge.svg\" alt=\"Open In Colab\"/></a>"
      ]
    },
    {
      "cell_type": "code",
      "execution_count": null,
      "metadata": {
        "id": "dB-ww-GuUUtq"
      },
      "outputs": [],
      "source": [
        "#4.12 Comece executando, no shell interativo, esta instrução de atribuição:\n",
        "#>>> s = 'abcdefghijklmnopqrstuvwxyz'\n",
        "#Agora, usando a string s e o operador de indexação, escreva expressões que sejam avaliadas\n",
        "#como 'bcd', 'abc', 'defghijklmnopqrstuvwx', 'wxy' e 'wxyz\n",
        "\n",
        "\n",
        ">>> s = 'abcdefghijklmnopqrstuvwxyz'\n",
        "\n",
        "# Avaliando 'bcd'\n",
        ">>> s[1:4]\n",
        "'bcd'\n",
        "\n",
        "# Avaliando 'abc'\n",
        ">>> s[0:3]\n",
        "'abc'\n",
        "\n",
        "# Avaliando 'defghijklmnopqrstuvwx'\n",
        ">>> s[3:23]\n",
        "'defghijklmnopqrstuvwx'\n",
        "\n",
        "# Avaliando 'wxy'\n",
        ">>> s[22:25]\n",
        "'wxy'\n",
        "\n",
        "# Avaliando 'wxyz'\n",
        ">>> s[22:]\n",
        "'wxyz'\n"
      ]
    },
    {
      "cell_type": "code",
      "source": [
        "#4.13 Considere que a string s seja definida como: s = 'goodbye'\n",
        "#Escreva expressões booleanas em Python que correspondam a estas proposições:\n",
        "#O pedaço que consiste no segundo e terceiro caracteres de s seja 'bc'. O pedaço que consist s seja 'abcdefghijklmn'. \n",
        "#pedaço de s excluindo os primeiros caracteres seja 'opqrstuvwxyz'. O pedaço de s excluindo o primeiro e o último caracteresseja 'bcdefghijklmnopqrstuvw'.\n",
        "s[1:3] == 'bc'\n",
        "s[:14] == 'abcdefghijklmn'\n",
        "s[4:] == 'opqrstuvwxyz'\n",
        "s[1:-1] == 'bcdefghijklmnopqrstuvw'"
      ],
      "metadata": {
        "id": "Sln-YsbXUy6S"
      },
      "execution_count": null,
      "outputs": []
    },
    {
      "cell_type": "code",
      "source": [
        "#4.14 Traduza cada linha para uma instrução Python:\n",
        "#log a string a seguir, que por acaso é o fragmento de um log para\n",
        "#128.0.0.1 - - [12/Feb/2011:10:31:08 -0600] \"GET /docs/test.txt HTTP/1.0\" (b)Atribua à variável endereço a substring de log que termina antes do primeiro\n",
        "#espaço em branco em log, usando o método de string split() e o operador de\n",
        "#indexação sobre a string log. data o pedaço da string log cont 12/Feb ... -6000 log. \n",
        "\n",
        "# Log da string\n",
        "log = '128.0.0.1 - - [12/Feb/2011:10:31:08 -0600] \"GET /docs/test.txt HTTP/1.0\" (b)'\n",
        "\n",
        "# Atribuição à variável endereço da substring de log que termina antes do primeiro espaço em branco\n",
        "endereco = log.split(' ')[0]\n",
        "\n",
        "# Atribuição à variável data do pedaço da string log contendo '12/Feb/2011:10:31:08 -0600'\n",
        "data = log[log.index('[')+1:log.index(']')]\n",
        "\n",
        "# Imprime as variáveis para verificar os resultados\n",
        "print('Endereço: ', endereco)\n",
        "print('Data: ', data)"
      ],
      "metadata": {
        "id": "QR9wp6iEUzDk"
      },
      "execution_count": null,
      "outputs": []
    },
    {
      "cell_type": "code",
      "source": [
        "#4.15 Para cada um dos valores de string de s a seguir, escreva a expressão envolvendos e o\n",
        "#método de string split() que é avaliado para a lista:\n",
        "#['10', '20', '30', '40', '50', '60']\n",
        "#(a)s = '10 20 30 40 50 60'\n",
        "#s = '10,20,30,40,50,60'\n",
        "#s = '10&20&30&40&50&60'\n",
        "#s = '10 - 20 - 30 - 40 - 50 - 60'\n",
        "\n",
        "I) s = '10 20 30 40 50 60'\n",
        "s.split()\n",
        "\n",
        "II) s = '10,20,30,40,50,60'\n",
        "s.split(',')\n",
        "\n",
        "III) s = '10&20&30&40&50&60'\n",
        "s.split('&')\n",
        "\n",
        "IV)s = '10 - 20 - 30 - 40 - 50 - 60'\n",
        "s.split(' - ')"
      ],
      "metadata": {
        "id": "jL6_bC8eUzTt"
      },
      "execution_count": null,
      "outputs": []
    },
    {
      "cell_type": "code",
      "source": [
        "#4.16 Implemente um programa que solicite três palavras (strings) do usuário. Seu programa\n",
        "#deverá exibir o valor booleano True se as palavras forem inseridas na ordem do dicionário; caso\n",
        "#contrário, nada é exibido.\n",
        "#>>>\n",
        "#Digite primeira palavra: baiacu\n",
        "#Digite segunda palavra: salmão\n",
        "#Digite terceira palavra: tucunaré\n",
        "#True\n",
        "\n",
        "palavra1 = input('Digite a primeira palavra: ')\n",
        "palavra2 = input('Digite a segunda palavra: ')\n",
        "palavra3 = input('Digite a terceira palavra: ')\n",
        "\n",
        "if palavra1 < palavra2 < palavra3:\n",
        "    print(True)\n"
      ],
      "metadata": {
        "id": "co52NCI0UzZd"
      },
      "execution_count": null,
      "outputs": []
    },
    {
      "cell_type": "code",
      "source": [
        "#4.17 Traduza cada linha para uma instrução Python usando métodos de string:\n",
        "\n",
        "#A) Atribua à variável mensagem a string 'O segredo desta mensagem é que a mensagem é secreta'. \n",
        "#B) Atribua à variável  tamanho o tamanho da string mensagem, usando o\n",
        "#operador len().\n",
        "#c)Atribua à variável conta o númer 'secreta' aparece na string mensagem, usando o método count(). \n",
        "#d)Atribua à variável  censurado uma cópia da string mensagemcom cada ocorrência da substring\n",
        "#'mensagem' substituida por 'xxxxxxxx', usando o método replace()\n",
        "\n",
        "A) mensagem = 'O segredo desta mensagem é que a mensagem é secreta'\n",
        "B) tamanho = len(mensagem)\n",
        "C) conta = mensagem.count('secreta')\n",
        "D) censurado = mensagem.replace('mensagem', 'xxxxxxxx')"
      ],
      "metadata": {
        "id": "Ub_HVWZ5UzgQ"
      },
      "execution_count": null,
      "outputs": []
    },
    {
      "cell_type": "markdown",
      "source": [
        "Na instrução (A), atribuímos a string fornecida à variável mensagem. Na instrução (B), usamos a função len() para obter o comprimento da string mensagem e atribuímos o resultado à variável tamanho.\n",
        "\n",
        "Na instrução (C), usamos o método count() da string mensagem para contar o número de ocorrências da substring 'secreta' e atribuímos o resultado à variável conta.\n",
        "\n",
        "Finalmente, na instrução (D), usamos o método replace() da string mensagem para criar uma cópia da string em que cada ocorrência da substring 'mensagem' é substituída por 'xxxxxxxx', e atribuímos o resultado à variável censurado."
      ],
      "metadata": {
        "id": "Mtlp8aDVWgI9"
      }
    },
    {
      "cell_type": "code",
      "source": [
        "#4.18 Suponha que a variável s tenha sido atribuída desta maneira: s = '''It was the best of times, it was the worst of times; itwas the age of wisdom, it was the age of foolishness; it was theepoch of belief, it was the epoch of incredulity; it was ...'''(O início de A Tale of Two Cities [Um conto de duas cidades], de Charles Dickens.) Depois, faça o seguinte, em ordem, a cada vez:\n",
        "#a) Escreva uma sequência de instruções que produzam uma cópia de s, chamada novaS, na qual os caracteres . , , , ; e \\n sejam substituídos por espaços em branco\n",
        "#b) remova os espaços em branco iniciais e finais em novas (e chame a nova string de novaS).\n",
        "#c) torne todos os caracteres em novas minúsculos (e chame a nova string de novaS).\n",
        "#d) Calcule o número de ocorrências em novaS da string ‘it was’.\n",
        "#e) Mude cada ocorrência de was para is (e chame a nova string de novaS).\n",
        "#f) Divida novaS em uma lista de palavras e chame a lista de novaS.\n",
        "\n",
        "a)\n",
        "novaS = s.replace('.', ' ').replace(',', ' ').replace(';', ' ').replace('\\n', ' ')\n",
        "\n",
        "b)\n",
        "novaS = novaS.strip()\n",
        "\n",
        "c)\n",
        "novaS = novaS.lower()\n",
        "\n",
        "d)\n",
        "ocorrencias = novaS.count('it was')\n",
        "\n",
        "e)\n",
        "novaS = novaS.replace('was', 'is')\n",
        "\n",
        "f)\n",
        "listaNovaS = novaS.split()\n"
      ],
      "metadata": {
        "id": "Y-PkyKDcUzmS"
      },
      "execution_count": null,
      "outputs": []
    },
    {
      "cell_type": "code",
      "source": [
        "#4.19 Escreva instruções Python que exibam as saídas formatadas a seguir usando as variáveis já\n",
        "#atribuídas primeiro, meio e último:\n",
        "#>>> primeiro = 'Marlena'\n",
        "#>>> meio = 'Sigel'\n",
        "#>>> último = 'Mae'\n",
        "#(a)Sigel, Marlena Mae\n",
        "#Sigel, Marlena M.\n",
        "#Marlena M. Sigel\n",
        "#M. M. Sigel\n",
        "\n",
        "I)\n",
        "print(\"{}, {} {}\".format(meio, primeiro, último))\n",
        "\n",
        "II)\n",
        "print(\"{}, {} {}.\".format(meio, primeiro, primeiro[0]))\n",
        "\n",
        "III)\n",
        "print(\"{} {}. {}\".format(primeiro, primeiro[0], meio))\n",
        "\n",
        "IV)\n",
        "print(\"{} {}. {}. {}\".format(primeiro[0], meio[0], meio, último))"
      ],
      "metadata": {
        "id": "EDraxLQeUzyz"
      },
      "execution_count": null,
      "outputs": []
    },
    {
      "cell_type": "code",
      "source": [
        "#4.20 Dados os valores de string para o remetente, destinatário e assunto de um e-mail, escreva\n",
        "#uma expressão em formato de string que use as variáveis remetente, destinatário e assunto e que\n",
        "#exiba conforme o trecho a seguir:\n",
        "#>>> remetente = 'tim@abc.com'\n",
        "#>>> destinatário = 'tom@xyz.org'\n",
        "#>>> assunto = 'Hello!'\n",
        "#>>> print(???) # preencha\n",
        "#De: tim@abc.com\n",
        "#Para: tom@xyz.org\n",
        "#Assunto: Hello! \n",
        "\n",
        "print(f\"De: {remetente}\\nPara: {destinatário}\\nAssunto: {assunto}\")\n"
      ],
      "metadata": {
        "id": "x0ktzxIEUz60"
      },
      "execution_count": null,
      "outputs": []
    },
    {
      "cell_type": "code",
      "source": [
        "#4.21 Escreva instruções Python que exibam os valores de p e a constante de Euler e nos formatos\n",
        "#mostrados:\n",
        "#pi = 3.1, e = 2.7\n",
        "#pi = 3.14, e = 2.72\n",
        "#pi = 3.141593e+00, e = 2.718282e+00\n",
        "#pi = 3.14159, e = 2.71828\n",
        "\n",
        "# Formato 1\n",
        "pi = 3.1\n",
        "e = 2.7\n",
        "print(\"pi = {:.1f}, e = {:.1f}\".format(pi, e))\n",
        "\n",
        "# Formato 2\n",
        "pi = 3.14159\n",
        "e = 2.71828\n",
        "print(\"pi = {:.2f}, e = {:.2f}\".format(pi, e))\n",
        "\n",
        "# Formato 3\n",
        "pi = 3.14159265359\n",
        "e = 2.71828182846\n",
        "print(\"pi = {:.6e}, e = {:.6e}\".format(pi, e))\n",
        "\n",
        "# Formato 4\n",
        "pi = 3.14159\n",
        "e = 2.71828\n",
        "print(\"pi = {:.5f}, e = {:.5f}\".format(pi, e))"
      ],
      "metadata": {
        "id": "s5SWRJ6uU0Hj"
      },
      "execution_count": null,
      "outputs": []
    },
    {
      "cell_type": "markdown",
      "source": [
        "# ***Problemas***"
      ],
      "metadata": {
        "id": "oJp84Q8PZagk"
      }
    },
    {
      "cell_type": "code",
      "source": [
        "#4.22 Escreva uma função mês() que aceite um número entre 1 e 12 como entrada e retorne a\n",
        "#abreviação em três letras do mês correspondente. Faça isso sem usar uma instruçãoif, apenas\n",
        "#operações de strings. Dica: use uma string para armazenar as abreviações em ordem.\n",
        "#>>> mês(1)\n",
        "#'Jan'\n",
        "#>>> mês(11)\n",
        "#'Nov'\n",
        "\n",
        "def mês(número):\n",
        "    meses = 'JanFevMarAbrMaiJunJulAgoSetOutNovDez'\n",
        "    início = (número - 1) * 3\n",
        "    fim = início + 3\n",
        "    abreviação = meses[início:fim]\n",
        "    return abreviação\n"
      ],
      "metadata": {
        "id": "g8Ogk_lYU0Ns"
      },
      "execution_count": null,
      "outputs": []
    },
    {
      "cell_type": "code",
      "source": [
        "#4.23 Escreva uma função média() que não aceite entrada, mas solicite que o usuário entre com\n",
        "#uma sentença. Sua função deverá retornar o tamanho médio de uma palavra na sentença.\n",
        "#>>> médio()\n",
        "#Digite uma sentença: A sample sentence\n",
        "#5.0\n",
        "\n",
        "def medio():\n",
        "    sentenca = input(\"Digite uma sentença: \")\n",
        "    palavras = sentenca.split()\n",
        "    media_tamanho = sum(len(p) for p in palavras) / len(palavras)\n",
        "    return media_tamanho\n"
      ],
      "metadata": {
        "id": "Fti2p_MMU0Tv"
      },
      "execution_count": null,
      "outputs": []
    },
    {
      "cell_type": "code",
      "source": [
        "#4.24 Implemente a função animar(), que apanhe como entrada um nome de um time (como\n",
        "#uma string) e imprima uma saudação conforme mostramos:\n",
        "#>>> animar('Vitória')\n",
        "#Como se soletra campeão?\n",
        "#Eu sei, eu sei!\n",
        "#V I T Ó R I A !\n",
        "#É assim que'se soletra campeão!\n",
        "#Vai, Vitória!\n",
        "\n",
        "def animar(time):\n",
        "    print(\"Como se soletra campeão?\")\n",
        "    print(\"Eu sei, eu sei!\")\n",
        "    print(\" \".join(list(time.upper())), \"!\")\n",
        "    print(\"É assim que se soletra campeão!\")\n",
        "    print(\"Vai, \" + time + \"!\")\n"
      ],
      "metadata": {
        "id": "mc8EakzpU0aM"
      },
      "execution_count": null,
      "outputs": []
    },
    {
      "cell_type": "code",
      "source": [
        "#4.25 Escreva a função contaVogal(), que aceita uma string como entrada e conta e exibe o\n",
        "#número de ocorrências de vogais na string.\n",
        "#>>> contaVogal('Le Tour de France')\n",
        "#a, e, i, o e u aparecem, respectivamente, 1, 3, 0, 1, 1 vezes. \n",
        "\n",
        "def contaVogal(string):\n",
        "    vogais = 'aeiou'\n",
        "    contador_vogais = [0] * 5 # criando uma lista com 5 elementos iniciando com 0\n",
        "\n",
        "    for char in string.lower(): # convertendo a string para lowercase\n",
        "        if char in vogais:\n",
        "            contador_vogais[vogais.index(char)] += 1 # incrementa o contador da vogal encontrada\n",
        "\n",
        "    # exibindo o resultado formatado\n",
        "    print(f'a, e, i, o e u aparecem, respectivamente, {contador_vogais[0]}, {contador_vogais[1]}, {contador_vogais[2]}, {contador_vogais[3]}, {contador_vogais[4]} vezes.')\n",
        "\n",
        "#exemplo de uso\n",
        "\n",
        ">>> contaVogal('Le Tour de France')\n",
        "a, e, i, o e u aparecem, respectivamente, 1, 3, 0, 1, 1 vezes.\n"
      ],
      "metadata": {
        "id": "4Nj_-NpqU0hV"
      },
      "execution_count": null,
      "outputs": []
    },
    {
      "cell_type": "code",
      "source": [
        "#4.26 A função de criptografia crypto() aceita como entrada uma string (isto é, o nome de um\n",
        "#arquivo no diretório ativo). A função deve exibir o arquivo na tela com esta modificação: cada\n",
        "#ocorrência da string 'secret' no arquivo deve ser substituída pela string 'xxxxxx'. Arquivo: crypto.txt\n",
        "#>>> crypto('crypto.txt')\n",
        "#I will tell you my xxxxxx. But first, I have to explain\n",
        "#why it is a xxxxxx.\n",
        "#And that is all I will tell you about my xxxxxx.\n",
        "\n",
        "def crypto(arquivo):\n",
        "    with open(arquivo, 'r') as f:\n",
        "        conteudo = f.read()\n",
        "        conteudo_modificado = conteudo.replace('secret', 'xxxxxx')\n",
        "        print(conteudo_modificado)\n",
        "\n",
        "crypto('crypto.txt')\n",
        "\n",
        "# Saíde Esperada\n",
        "\n",
        "I will tell you my xxxxxx. But first, I have to explain\n",
        "why it is a xxxxxx.\n",
        "And that is all I will tell you about my xxxxxx.\n",
        "\n"
      ],
      "metadata": {
        "id": "QIFSpg-bU0nW"
      },
      "execution_count": null,
      "outputs": []
    },
    {
      "cell_type": "code",
      "source": [
        "# 4.27 Escreva uma função fcopy() que aceite como entrada dois nomes de arquivo (como\n",
        "#strings) e copie o conteúdo do primeiro arquivo para o segundo. \n",
        "\n",
        "#Arquivo: crypto.txt\n",
        "#>>> fcopy('exemplo.txt','saída.txt')\n",
        "#>>> open('saída.txt').read()\n",
        "#'As 3 linhas desse arquivo terminam com o caractere de nova linha.\\n\\nHá uma linha em branco acima desta linha.\\n'\n",
        "\n",
        "def fcopy(origem, destino):\n",
        "    with open(origem, 'r') as arquivo_origem:\n",
        "        conteudo = arquivo_origem.read()\n",
        "    with open(destino, 'w') as arquivo_destino:\n",
        "        arquivo_destino.write(conteudo)\n"
      ],
      "metadata": {
        "id": "kCFZGlY0U0uF"
      },
      "execution_count": null,
      "outputs": []
    },
    {
      "cell_type": "code",
      "source": [
        "#4.28 Implemente a função links() que aceita como entrada o nome de um arquivo HTML\n",
        "#(como uma string) e retorna o número de hyperlinks nesse arquivo. Para fazer isso, você assumirá\n",
        "#que cada hyperlink aparece em uma tag de âncora. Você também precisa saber que cada tag de\n",
        "#âncora termina com a substring</a>.\n",
        "#Teste seu código no arquivo HTML twolinks.html ou em qualquer arquivo HTML\n",
        "#baixado da Web para a pasta na qual seu programa se encontra.\n",
        "#Arquivo: twolinks.html\n",
        "#>>> links('twolinks.html')\n",
        "#2\n",
        "\n",
        "import re\n",
        "\n",
        "def links(arquivo):\n",
        "    with open(arquivo, 'r') as f:\n",
        "        html = f.read()\n",
        "    \n",
        "    # Busca por todas as ocorrências de tags de âncora\n",
        "    matches = re.findall(r'<a.*?>', html)\n",
        "    \n",
        "    # Retorna o número de ocorrências encontradas\n",
        "    return len(matches)\n"
      ],
      "metadata": {
        "id": "RD2dES66U00t"
      },
      "execution_count": null,
      "outputs": []
    },
    {
      "cell_type": "code",
      "source": [
        "#4.29 Escreva uma função stats() que aceita um argumento de entrada: o nome de um arquivo\n",
        "#de texto. A função deverá exibir, na tela, o número de linhas, palavras e caracteres no arquivo;\n",
        "#sua função deverá abrir o arquivo apenas uma vez.\n",
        "#Arquivo: example.txt\n",
        "#>>> stats('example.txt')\n",
        "#número de linhas: 3\n",
        "#número de palavras: 20\n",
        "#número de caracteres: 98\n",
        "\n",
        "def stats(nome_arquivo):\n",
        "    # Abrir o arquivo em modo de leitura\n",
        "    with open(nome_arquivo, 'r') as arquivo:\n",
        "        # Ler o conteúdo do arquivo em uma string\n",
        "        conteudo = arquivo.read()\n",
        "    \n",
        "    # Fechar o arquivo\n",
        "    \n",
        "    # Contar o número de linhas contando a quantidade de quebras de linha\n",
        "    num_linhas = conteudo.count('\\n') + 1  # Adicionar 1 para a última linha se não terminar com '\\n'\n",
        "    \n",
        "    # Quebrar a string lida em palavras usando o método split() e contar o número de palavras\n",
        "    palavras = conteudo.split()\n",
        "    num_palavras = len(palavras)\n",
        "    \n",
        "    # Contar o número de caracteres na string lida\n",
        "    num_caracteres = len(conteudo)\n",
        "    \n",
        "    # Exibir os resultados na tela\n",
        "    print(f'número de linhas: {num_linhas}')\n",
        "    print(f'número de palavras: {num_palavras}')\n",
        "    print(f'número de caracteres: {num_caracteres}')\n",
        "\n",
        "# Saída Esperada\n",
        ">>> stats('example.txt')\n",
        "número de linhas: 3\n",
        "número de palavras: 20\n",
        "número de caracteres: 98\n"
      ],
      "metadata": {
        "id": "ThVzZ4xqbSPj"
      },
      "execution_count": null,
      "outputs": []
    },
    {
      "cell_type": "code",
      "source": [
        "#4.30 Implemente a função distribuição(), que aceita como entrada o nome de um arquivo\n",
        "#(como uma string). Esse arquivo de única linha terá notas em forma de letra, separadas por espaços. Sua função deverá exibir a distribuição de notas, conforme mostrado a seguir.\n",
        "#Arquivo: grades.txt\n",
        "#>>> distribuição('grades.txt')\n",
        "#6 alunos tiveram A\n",
        "#2 alunos tiveram A3 alunos tiveram B+\n",
        "#2 alunos tiveram B\n",
        "#2 alunos tiveram B4 alunos tiveram C\n",
        "#1 aluno teve C2 alunos tiveram F\n",
        "\n",
        "def distribuição(nome_arquivo):\n",
        "    # Abrir o arquivo e ler seu conteúdo\n",
        "    with open(nome_arquivo, 'r') as arquivo:\n",
        "        conteudo = arquivo.read().strip()\n",
        "\n",
        "    # Dividir a string em uma lista de notas\n",
        "    notas = conteudo.split()\n",
        "\n",
        "    # Contar a quantidade de cada nota na lista\n",
        "    notas_contagem = {}\n",
        "    for nota in notas:\n",
        "        notas_contagem[nota] = notas_contagem.get(nota, 0) + 1\n",
        "\n",
        "    # Exibir a distribuição de notas\n",
        "    for nota, contagem in sorted(notas_contagem.items()):\n",
        "        plural = 's' if contagem != 1 else ''\n",
        "        print(f'{contagem} aluno{plural} teve {nota}')\n",
        "\n",
        "# Saída Esperada\n",
        ">>> distribuição('grades.txt')\n",
        "6 alunos tiveram A\n",
        "2 alunos tiveram A3\n",
        "3 alunos tiveram B+\n",
        "2 alunos tiveram B\n",
        "2 alunos tiveram B4\n",
        "4 alunos tiveram C\n",
        "1 aluno teve C2\n",
        "2 alunos tiveram F\n",
        "\n"
      ],
      "metadata": {
        "id": "RFJtA3qca_Ph"
      },
      "execution_count": 2,
      "outputs": []
    },
    {
      "cell_type": "code",
      "source": [
        "#4.31 Implemente a função duplicata(), que aceita como entrada a string e o nome de um\n",
        "#arquivo no diretório atual e retorna True se o arquivo tiver palavras duplicadas e False em\n",
        "#caso contrário.\n",
        "#Arquivo: Duplicates.txt\n",
        "#Arquivo: noDuplicates.txt\n",
        "#>>> duplicata('Duplicates.txt')\n",
        "#True\n",
        "#>>> duplicata('noDuplicates.txt')\n",
        "#False \n",
        "\n",
        "def duplicata(string, nome_arquivo):\n",
        "    with open(nome_arquivo, 'w') as arquivo:\n",
        "        arquivo.write(string)\n",
        "    \n",
        "    with open(nome_arquivo, 'r') as arquivo:\n",
        "        palavras = set()\n",
        "        for linha in arquivo:\n",
        "            for palavra in linha.split():\n",
        "                if palavra in palavras:\n",
        "                    return True\n",
        "                palavras.add(palavra)\n",
        "    \n",
        "    return False\n",
        "\n",
        "# Testando\n",
        ">>> duplicata('essa frase tem palavras duplicadas', 'Duplicates.txt')\n",
        "True\n",
        ">>> duplicata('essa frase não tem palavras duplicadas', 'noDuplicates.txt')\n",
        "False\n"
      ],
      "metadata": {
        "id": "F5Yx_7cBa_VG"
      },
      "execution_count": null,
      "outputs": []
    },
    {
      "cell_type": "code",
      "source": [
        "#4.32 A função censura()apanha o nome de um arquivo (uma string) como entrada. A função\n",
        "#deverá abrir o arquivo, lê-lo e depois gravá-lo no arquivo censurado.txt com esta\n",
        "#modificação: cada ocorrência de uma palavra de quatro letras no arquivo deverá ser substituída\n",
        "#pela string 'xxxx'. Arquivo: example.txt\n",
        "#>>> censura('example.txt')\n",
        "#Observe que essa função não produz saída, mas cria o arquivo censurado.txt na pasta atual. \n",
        "\n",
        "def censura(arquivo):\n",
        "    with open(arquivo, 'r') as arquivo_origem, open('censurado.txt', 'w') as arquivo_destino:\n",
        "        for linha in arquivo_origem:\n",
        "            palavras = linha.split()\n",
        "            for i, palavra in enumerate(palavras):\n",
        "                if len(palavra) == 4:\n",
        "                    palavras[i] = 'xxxx'\n",
        "            nova_linha = ' '.join(palavras) + '\\n'\n",
        "            arquivo_destino.write(nova_linha)\n",
        "\n",
        "# Testando\n",
        "# Supondo que o example.txt contenha esse texto abaixo:\n",
        "Este arquivo é um exemplo para testar a função censura.\n",
        "Palavras de quatro letras, como casa, serão censuradas.\n",
        "\n",
        "censura('example.txt')\n",
        "Este arquivo é um exemplo para testar a função xxxx.\n",
        "Palavras de xxxx letras, como xxxx, serão censuradas.\n",
        "\n"
      ],
      "metadata": {
        "id": "04_0ILeib8_V"
      },
      "execution_count": null,
      "outputs": []
    },
    {
      "cell_type": "code",
      "source": [],
      "metadata": {
        "id": "zIXdLPqab4Qe"
      },
      "execution_count": null,
      "outputs": []
    }
  ]
}