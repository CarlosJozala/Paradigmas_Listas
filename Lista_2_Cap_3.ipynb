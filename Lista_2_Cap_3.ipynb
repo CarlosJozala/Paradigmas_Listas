{
  "nbformat": 4,
  "nbformat_minor": 0,
  "metadata": {
    "colab": {
      "provenance": [],
      "authorship_tag": "ABX9TyOciG9YJTu44bbHafZ4qqtq",
      "include_colab_link": true
    },
    "kernelspec": {
      "name": "python3",
      "display_name": "Python 3"
    },
    "language_info": {
      "name": "python"
    }
  },
  "cells": [
    {
      "cell_type": "markdown",
      "metadata": {
        "id": "view-in-github",
        "colab_type": "text"
      },
      "source": [
        "<a href=\"https://colab.research.google.com/github/CarlosJozala/Paradigmas_em_Python_Listas/blob/main/Lista_2_Cap_3.ipynb\" target=\"_parent\"><img src=\"https://colab.research.google.com/assets/colab-badge.svg\" alt=\"Open In Colab\"/></a>"
      ]
    },
    {
      "cell_type": "code",
      "source": [
        "#3.16 Use a função eval() para avaliar essas strings como expressões Python:\n",
        "#(a)'2 * 3 + 1'\n",
        "#(b)'hello'\n",
        "#(c)\"'hello' + 'not'+ 'world!'\"\n",
        "#(d)\"'ASCII'.count('I')\"\n",
        "#(e)'x = 5'\n",
        "\n",
        "a) \n",
        "eval('2 * 3 + 1')\n",
        "7\n",
        "\n",
        "b)\n",
        "eval('hello')\n",
        "Traceback (most recent call last):\n",
        "  File \"<stdin>\", line 1, in <module>\n",
        "NameError: name 'hello' is not defined\n",
        "\n",
        "#A Avaliação falhou porque hello não é uma variável definida no escopo atual. Para avaliar uma string que representa um texto, devemos colocá-la entre aspas\n",
        "\n",
        "c) \n",
        "eval(\"'hello' + 'not'+ 'world!'\")\n",
        "'hellonotworld!'\n",
        "\n",
        "d)\n",
        "eval(\"'ASCII'.count('I')\")\n",
        "2\n",
        "\n",
        "e)\n",
        "eval('x = 5')\n",
        "Traceback (most recent call last):\n",
        "  File \"<stdin>\", line 1, in <module>\n",
        "  File \"<string>\", line 1\n",
        "    x = 5\n",
        "    ^\n",
        "SyntaxError: invalid syntax\n",
        "\n",
        "#A avaliação falhou porque a string representa uma declaração de atribuição, e não uma expressão Python. A função eval() não pode avaliar declarações, apenas expressões."
      ],
      "metadata": {
        "id": "d19AWvN9Kqmc"
      },
      "execution_count": null,
      "outputs": []
    },
    {
      "cell_type": "code",
      "source": [
        "#3.17 Suponha que a, b e c tenham sido definidas no shell interativo conforme mostrado:\n",
        "#>>> a, b, c = 3, 4, 5\n",
        "#Dentro do shell interativo, escreva instruções if que exibem 'OK' se:\n",
        "#(a)a for menor que b. (b)c for menor que b. (c)A soma de a e b for igual a c. (d)A soma dos quadrados de a e b for igual ao quadrado de c. \n",
        "\n",
        "a)\n",
        "if a < b:\n",
        "    print('OK')\n",
        "\n",
        "b)\n",
        "if c < b:\n",
        "    print('OK')\n",
        "\n",
        "c)\n",
        "if a + b == c:\n",
        "    print('OK')\n",
        "\n",
        "d)\n",
        "if a**2 + b**2 == c**2:\n",
        "    print('OK')\n",
        "    "
      ],
      "metadata": {
        "id": "KiD6I6TKKoCk"
      },
      "execution_count": null,
      "outputs": []
    },
    {
      "cell_type": "code",
      "source": [
        "#3.18 Repita o exercício anterior com o requisito adicional de que 'NÃO OK'é exibido na tela se\n",
        "#a condição for falsa.\n",
        "\n",
        "a)\n",
        "if a < b:\n",
        "    print('OK')\n",
        "else:\n",
        "    print('NÃO OK')\n",
        "\n",
        "b)\n",
        "if c < b:\n",
        "    print('OK')\n",
        "else:\n",
        "    print('NÃO OK')\n",
        "\n",
        "c)\n",
        "if a + b == c:\n",
        "    print('OK')\n",
        "else:\n",
        "    print('NÃO OK')\n",
        "\n",
        "d)\n",
        "if a**2 + b**2 == c**2:\n",
        "    print('OK')\n",
        "else:\n",
        "    print('NÃO OK')\n",
        "\n"
      ],
      "metadata": {
        "id": "bAJHVu9uKskZ"
      },
      "execution_count": null,
      "outputs": []
    },
    {
      "cell_type": "code",
      "source": [
        "#3.19 Escreva um laço for que percorra uma lista de strings lst e exiba os três primeiros\n",
        "#caracteres de cada palavra. Se 1st for a lista ['Janeiro' , 'Fevereiro' , 'Março'], então o seguinte deve ser exibido na tela:\n",
        "#Jan\n",
        "#Fev\n",
        "#Mar\n",
        "\n",
        "lst = ['Janeiro', 'Fevereiro', 'Março']\n",
        "for palavra in lst:\n",
        "    print(palavra[:3])\n"
      ],
      "metadata": {
        "id": "KQ32znn9KsqF"
      },
      "execution_count": null,
      "outputs": []
    },
    {
      "cell_type": "code",
      "source": [
        "#3.20 Escreva um laço for que percorre uma lista de números lst e exibe na tela os números na\n",
        "#lista cujo quadrado seja divisível por 8. Por exemplo, se lst for [2, 3, 4, 5, 6, 7, 8, 9], então os números 4 e 8 devem ser exibidos\n",
        "\n",
        "lst = [2, 3, 4, 5, 6, 7, 8, 9]\n",
        "for num in lst:\n",
        "    if num**2 % 8 == 0:\n",
        "        print(num)\n",
        "\n"
      ],
      "metadata": {
        "id": "GQlc6zQtKsvZ"
      },
      "execution_count": null,
      "outputs": []
    },
    {
      "cell_type": "code",
      "source": [
        "#3.21 Escreva laços for que usam a função range() e exibem as seguintes sequências:\n",
        "#(a)0 1\n",
        "#(b)0\n",
        "#(c)3 4 5 6\n",
        "#(d)1\n",
        "#(e)0 3 \n",
        "#(f)5 9 13 17 21 \n",
        "\n",
        "a)\n",
        "for i in range(2):\n",
        "    print(i)\n",
        "\n",
        "b)\n",
        "for i in range(1):\n",
        "    print(i)\n",
        "\n",
        "c)\n",
        "for i in range(3, 7):\n",
        "    print(i)\n",
        "\n",
        "d)\n",
        "for i in range(1, 2):\n",
        "    print(i)\n",
        "\n",
        "e)\n",
        "for i in range(0, 4, 3):\n",
        "    print(i)\n",
        "\n",
        "f)\n",
        "for i in range(5, 22, 4):\n",
        "    print(i)\n"
      ],
      "metadata": {
        "id": "9lKrT20kKs1D"
      },
      "execution_count": null,
      "outputs": []
    },
    {
      "cell_type": "markdown",
      "source": [
        "# **Problemas**"
      ],
      "metadata": {
        "id": "F5WZ7j57LtXx"
      }
    },
    {
      "cell_type": "code",
      "source": [
        "#Nota: Nos problemas que usam entrada interativa de valores não de string, você precisará usar a\n",
        "#função eval() para forçar o Python a tratar a entrada do usuário como uma expressão Python\n",
        "#(em vez de apenas uma string).\n",
        "#3.22 Implemente um programa que solicita uma lista de palavras do usuário e depois exibe cada\n",
        "#palavra na lista que não seja 'segredo'. >>>\n",
        "#Digite lista de palavras: ['cia', 'segredo', 'mi6', 'isi', 'segredo'] cia\n",
        "#mi6\n",
        "#isi\n",
        "\n",
        "palavras = eval(input('Digite lista de palavras: '))\n",
        "\n",
        "for palavra in palavras:\n",
        "    if palavra != 'segredo':\n",
        "        print(palavra)\n"
      ],
      "metadata": {
        "id": "g0dPdLGEKs6I"
      },
      "execution_count": null,
      "outputs": []
    },
    {
      "cell_type": "code",
      "source": [
        "#3.23 Implemente um programa que solicita uma lista de nomes de aluno do usuário e exiba\n",
        "#aqueles nomes que começam com as letras de A até M.\n",
        "#>>>\n",
        "#Digite a lista: ['Ellie', 'Steve', 'Sam', 'Owen', 'Gavin'] Ellie\n",
        "#Gavin\n",
        "\n",
        "\n",
        "nomes = eval(input('Digite a lista: '))\n",
        "\n",
        "for nome in nomes:\n",
        "    if nome[0].upper() in 'ABCDEFGHIJKLM':\n",
        "        print(nome)"
      ],
      "metadata": {
        "id": "xttcFyDvKtFN"
      },
      "execution_count": null,
      "outputs": []
    },
    {
      "cell_type": "code",
      "source": [
        "#3.24 Implemente um programa que solicite uma lista não vazia do usuário e exiba na tela uma\n",
        "#mensagem mostrando o primeiro e o último elemento da lista.\n",
        "#>>>\n",
        "#Digite uma lista: [3, 5, 7, 9]\n",
        "#O primeiro elemento da lista é 3\n",
        "#O último elemento da lista é 9\n",
        "\n",
        "lista = eval(input('Digite uma lista: '))\n",
        "\n",
        "primeiro = lista[0]\n",
        "ultimo = lista[-1]\n",
        "\n",
        "print(f'O primeiro elemento da lista é {primeiro}')\n",
        "print(f'O último elemento da lista é {ultimo}')"
      ],
      "metadata": {
        "id": "YVZkuJSiKtLl"
      },
      "execution_count": null,
      "outputs": []
    },
    {
      "cell_type": "code",
      "source": [
        "#3.25 Implemente um programa que solicita um inteiro positivo n do usuário e exiba os quatro\n",
        "#primeiros múltiplos de n:\n",
        "#>>>\n",
        "#Digite n: 5\n",
        "#0\n",
        "#5\n",
        "#10\n",
        "#15\n",
        "\n",
        "n = int(input('Digite n: '))\n",
        "\n",
        "for i in range(4):\n",
        "    print(n * i)\n"
      ],
      "metadata": {
        "id": "srO9q3Y4KtUd"
      },
      "execution_count": null,
      "outputs": []
    },
    {
      "cell_type": "code",
      "source": [
        "#3.26 Implemente um programa que solicita um inteiro n do usuário e imprime na tela os\n",
        "#quadrados de todos os números de 0 até, mas não incluindo, n. >>>\n",
        "#Digite n: 4\n",
        "#0\n",
        "#1\n",
        "#4\n",
        "#9\n",
        "\n",
        "n = int(input('Digite n: '))\n",
        "\n",
        "for i in range(n):\n",
        "    print(i**2)"
      ],
      "metadata": {
        "id": "FhB3m3laKtb1"
      },
      "execution_count": null,
      "outputs": []
    },
    {
      "cell_type": "code",
      "source": [
        "#3.27 Implemente um programa que solicita um inteiro positivo n e exibe na tela todos os divisores\n",
        "#positivos de n. Nota: 0 não é um divisor de qualquer inteiro, e n divide por si mesmo.\n",
        "#>>>\n",
        "#Digite n: 49\n",
        "#1\n",
        "#7\n",
        "#49\n",
        "\n",
        "n = int(input(\"Digite n: \"))\n",
        "\n",
        "print(\"Divisores de\", n, \":\")\n",
        "\n",
        "for i in range(1, n+1):\n",
        "    if n % i == 0:\n",
        "        print(i)"
      ],
      "metadata": {
        "id": "9_wLBaexKthv"
      },
      "execution_count": null,
      "outputs": []
    },
    {
      "cell_type": "code",
      "source": [
        "#3.28 Implemente um programa que solicita quatro números (inteiro ou ponto flutuante) do usuário. Seu programa deverá calcular a média dos três primeiros números e comparar a média com o\n",
        "#quarto número. Se elas forem iguais, seu programa deverá exibir 'Igual' na tela.\n",
        "#>>>\n",
        "#Digite o primeiro número: 4.5\n",
        "#Digite o segundo número: 3\n",
        "#Digite o terceiro número: 3\n",
        "#Digite o quarto número: 3.5\n",
        "#Igual\n",
        "\n",
        "num1 = eval(input(\"Digite o primeiro número: \"))\n",
        "num2 = eval(input(\"Digite o segundo número: \"))\n",
        "num3 = eval(input(\"Digite o terceiro número: \"))\n",
        "num4 = eval(input(\"Digite o quarto número: \"))\n",
        "\n",
        "media = (num1 + num2 + num3) / 3\n",
        "\n",
        "if media == num4:\n",
        "    print(\"Igual\")"
      ],
      "metadata": {
        "id": "nP80YA_qKtnG"
      },
      "execution_count": null,
      "outputs": []
    },
    {
      "cell_type": "code",
      "source": [
        "#3.29 Implemente um programa que solicita ao usuário que entre com as coordenadas x e y (cada\n",
        "#um entre –10 e 10) de um dardo e calcula se o dardo atingiu o alvo, um círculo com centro (0,0)\n",
        "#e raio 8. Se tiver atingido, a string Está dentro! deverá ser exibida na tela.\n",
        "#>>>\n",
        "#Digite x: 2.5\n",
        "#Digite y: 4\n",
        "#Está dentro!\n",
        "\n",
        "import math\n",
        "\n",
        "# solicita as coordenadas do usuário\n",
        "x = float(input(\"Digite x: \"))\n",
        "y = float(input(\"Digite y: \"))\n",
        "\n",
        "# calcula a distância entre o ponto (x, y) e o centro do círculo (0, 0)\n",
        "distancia = math.sqrt(x**2 + y**2)\n",
        "\n",
        "# verifica se a distância é menor ou igual ao raio do círculo (8)\n",
        "if distancia <= 8:\n",
        "    print(\"Está dentro!\")\n",
        "else:\n",
        "    print(\"Está fora!\")\n"
      ],
      "metadata": {
        "id": "2QRUK8vCKtsR"
      },
      "execution_count": null,
      "outputs": []
    },
    {
      "cell_type": "code",
      "source": [
        "#3.30 Escreva um programa que solicita um inteiro positivo de quatro dígitos do usuário e exibe\n",
        "#seus dígitos. Você não poderá usar as operações do tipo de dados string para realizar essa tarefa.\n",
        "#Seu programa deverá simplesmente ler a entrada como um inteiro e processá-la como um inteiro,\n",
        "#usando as operações aritméticas padrão (+, *, -, /, % etc.).\n",
        "#>>>\n",
        "#Digite n: 1234\n",
        "#1\n",
        "#2\n",
        "#3\n",
        "#4\n",
        "\n",
        "n = int(input(\"Digite um número de 4 dígitos: \"))\n",
        "d4 = n % 10\n",
        "n = n // 10\n",
        "d3 = n % 10\n",
        "n = n // 10\n",
        "d2 = n % 10\n",
        "n = n // 10\n",
        "d1 = n % 10\n",
        "\n",
        "print(d1)\n",
        "print(d2)\n",
        "print(d3)\n",
        "print(d4)"
      ],
      "metadata": {
        "id": "RT5DMyLEMbkS"
      },
      "execution_count": null,
      "outputs": []
    },
    {
      "cell_type": "code",
      "source": [
        "#3.31 Implemente a função inverte_string() que aceite como entrada uma string de três\n",
        "#etras e retorne a string com seus caracteres invertidos.\n",
        "#>>> inverte_string('abc')\n",
        "#'cba'\n",
        "#>>> inverte_string('dna')\n",
        "#'and'\n",
        "\n",
        "def inverte_string(string):\n",
        "    # Usa slicing para inverter a ordem dos caracteres da string\n",
        "    return string[::-1]\n",
        "\n",
        "#output:\n",
        "#>>> inverte_string('abc')\n",
        "#'cba'\n",
        "#>>> inverte_string('dna')\n",
        "#'and'\n"
      ],
      "metadata": {
        "id": "VA27twrlMbrZ"
      },
      "execution_count": null,
      "outputs": []
    },
    {
      "cell_type": "code",
      "source": [
        "#3.32 Implemente a função pagar() que toma como entrada dois argumentos: um salário horário\n",
        "#e o número de horas que um empregado trabalhou na última semana. Sua função deverá calcular\n",
        "#e retornar o pagamento do empregado. Quaisquer horas trabalhadas além de 40 é hora extra, e\n",
        "#deve ser paga a 1,5 vez o salário horário normal.\n",
        "#>>> pagar(10, 10)\n",
        "#100\n",
        "#>>> pagar(10, 35)\n",
        "#350\n",
        "#>> pagar(10, 45)\n",
        "#475 \n",
        "\n",
        "def pagar(salario_hora, horas_trabalhadas):\n",
        "    salario_base = salario_hora * horas_trabalhadas\n",
        "    if horas_trabalhadas > 40:\n",
        "        horas_extras = horas_trabalhadas - 40\n",
        "        salario_extra = salario_hora * 1.5 * horas_extras\n",
        "        salario_total = salario_base + salario_extra\n",
        "    else:\n",
        "        salario_total = salario_base\n",
        "    return salario_total\n",
        "\n",
        "print(pagar(10, 10))  # 100\n",
        "print(pagar(10, 35))  # 350\n",
        "print(pagar(10, 45))  # 475"
      ],
      "metadata": {
        "id": "V71YBLYPMbym"
      },
      "execution_count": null,
      "outputs": []
    },
    {
      "cell_type": "code",
      "source": [
        "#3.33 A probabilidade de conseguir n caras em sequência ao lançar uma moeda não\n",
        "#viciada n vezes é 2–n. Implemente a função prob() que aceita um inteiro não negativo n como\n",
        "#entrada e retorna a probabilidade de n caras em seguida ao lançar uma moeda não viciada n vezes.\n",
        "#>>> prob(1)\n",
        "#0.5\n",
        "#>>> prob(2)\n",
        "#0.25\n",
        "\n",
        "def prob(n: int) -> float:\n",
        "    return 2 ** -n"
      ],
      "metadata": {
        "id": "KyHNVnHBNklM"
      },
      "execution_count": null,
      "outputs": []
    },
    {
      "cell_type": "code",
      "source": [
        "#3.34 Implemente a função inverte_int() que aceita um inteiro de três dígitos como entrada\n",
        "#e retorna o inteiro obtido invertendo seus dígitos. Por exemplo, se a entrada for 123, sua função\n",
        "#deverá retornar 321. Você não poderá usar operações do tipo de dado de string para realizar essa tarefa. Seu programa deve simplesmente ler a entrada como um inteiro e processá-la como um\n",
        "#inteiro usando operadores como // e %. Você pode considerar que o inteiro informado não\n",
        "#termina com o dígito 0.\n",
        "#>>> inverte_int(123)\n",
        "#321\n",
        "#>>> inverte_int(908)\n",
        "#809 \n",
        "\n",
        "def inverte_int(num):\n",
        "    # Separa os dígitos do número\n",
        "    dig1 = num % 10\n",
        "    dig2 = (num // 10) % 10\n",
        "    dig3 = num // 100\n",
        "    \n",
        "    # Calcula o número invertido\n",
        "    num_invertido = dig1 * 100 + dig2 * 10 + dig3\n",
        "    \n",
        "    return num_invertido\n",
        "\n",
        "print(inverte_int(123))\n",
        "# Saída: 321\n",
        "\n",
        "print(inverte_int(908))\n",
        "# Saída: 809"
      ],
      "metadata": {
        "id": "YLovIW3qNkq6"
      },
      "execution_count": null,
      "outputs": []
    },
    {
      "cell_type": "code",
      "source": [
        "#3.35 Implemente a função pontos() que aceita como entrada quatro números x1, y1, x2, y2, que\n",
        "#são as coordenadas de dois-pontos (x1, y1) e (x2, y2) no plano. Sua função deverá calcular: •A inclinação da linha passando pelos pontos, a menos que a linha seja vertical. •A distância entre os dois-pontos.\n",
        "#Sua função deverá exibir a inclinação e a distância calculadas no formato a seguir. Se a linha for\n",
        "#vertical, o valor da inclinação deverá ser a string 'infinito'. Nota: Não se esqueça de\n",
        "#converter os valores de inclinação e distância para uma string antes de exibi-los.\n",
        "#>>> pontos(0, 0, 1, 1)\n",
        "#A inclinação é 1.0 e a distância é 1.41421356237\n",
        "#>>> pontos(0, 0, 0, 1)\n",
        "#A inclinação é infinita e a distância é 1.0\n",
        "\n",
        "import math\n",
        "\n",
        "def pontos(x1, y1, x2, y2):\n",
        "    if x1 == x2:\n",
        "        inclinacao = 'infinito'\n",
        "    else:\n",
        "        inclinacao = (y2 - y1) / (x2 - x1)\n",
        "    distancia = math.sqrt((x2 - x1) ** 2 + (y2 - y1) ** 2)\n",
        "    print(f'A inclinação é {str(inclinacao)} e a distância é {str(distancia)}')\n",
        "\n",
        "#exemplo \n",
        "#>>> pontos(0, 0, 1, 1)\n",
        "#A inclinação é 1.0 e a distância é 1.4142135623730951\n",
        "#>>> pontos(0, 0, 0, 1)\n",
        "#A inclinação é infinito e a distância é 1.0"
      ],
      "metadata": {
        "id": "zI2ft2s7Nkw2"
      },
      "execution_count": null,
      "outputs": []
    },
    {
      "cell_type": "code",
      "source": [
        "#3.36 Implemente a função abreviação() que aceita um dia da semana como entrada e retorna\n",
        "#sua abreviação em três letras.\n",
        "#>>> abreviação('Terça-feira')\n",
        "#'Ter'\n",
        "\n",
        "def abreviacao(dia):\n",
        "    dias = ['Segunda-feira', 'Terça-feira', 'Quarta-feira', 'Quinta-feira', 'Sexta-feira', 'Sábado', 'Domingo']\n",
        "    abreviacoes = ['Seg', 'Ter', 'Qua', 'Qui', 'Sex', 'Sáb', 'Dom']\n",
        "    return abreviacoes[dias.index(dia)]\n"
      ],
      "metadata": {
        "id": "UbZNx4G9Nk3Y"
      },
      "execution_count": null,
      "outputs": []
    },
    {
      "cell_type": "code",
      "source": [
        "#3.37 A função de jogo de computador collision() verifica se dois objetos circulares\n",
        "#colidem; ela retorna True se eles colidirem e False se não colidirem. Cada objeto circular será\n",
        "#dado pelo seu raio e as coordenadas (x, y) do seu centro. Assim, a função apanhará seis números\n",
        "#como entrada: as coordenadas (x1, y1) do centro e o raio r1 do primeiro círculo, e as coordenadas\n",
        "#(x2, y2) do centro e o raio r2 do segundo círculo.\n",
        "#>>> colisão(0, 0, 3, 0, 5, 3)\n",
        "#True\n",
        "#>>> colisão(0, 0, 1.4, 2, 2, 1.4)\n",
        "#False\n",
        "\n",
        "\n",
        "def colisao(x1, y1, r1, x2, y2, r2):\n",
        "    d = ((x2 - x1) ** 2 + (y2 - y1) ** 2) ** 0.5\n",
        "    return d <= r1 + r2\n",
        "\n",
        "print(colisao(0, 0, 3, 0, 5, 3)) # True\n",
        "print(colisao(0, 0, 1.4, 2, 2, 1.4)) # False\n",
        "\n"
      ],
      "metadata": {
        "id": "nldmEITnNk9c"
      },
      "execution_count": null,
      "outputs": []
    },
    {
      "cell_type": "code",
      "source": [
        "#3.38 Implemente a função partição() que divide uma lista de jogadores de futebol em dois\n",
        "#grupos. Mais precisamente, ela toma uma lista de nomes (strings) como entrada e exibe os nomes\n",
        "#dos jogadores de futebol cujo nome começa com uma letra entre A e M, inclusive.\n",
        "#>>> partição(['Elano', 'Edinho', 'Silas', 'Obina', 'Gerson']) Elano\n",
        "#Edinho\n",
        "#Gerson\n",
        "#>>> partição(['Neymar', 'Silas', 'Obina'])\n",
        "#>>>\n",
        "\n",
        "def partição(jogadores):\n",
        "    for jogador in jogadores:\n",
        "        if jogador[0].lower() in 'abcdefghijklm':\n",
        "            print(jogador)"
      ],
      "metadata": {
        "id": "tNsa4CYrMcMN"
      },
      "execution_count": null,
      "outputs": []
    },
    {
      "cell_type": "code",
      "source": [
        "#3.39 Escreva a função inverteNome(), que aceita como entrada uma string na forma 'Nome Sobrenome' e retorna uma string na forma 'Sobrenome, N.'. (Somente a letra inicial\n",
        "#deverá ser exibida para o nome.)\n",
        "#>>> inverteNome('João Lourenço')\n",
        "#'Lourenço, J.'\n",
        "#>>> inverteNome('Alberto Carlos')\n",
        "#'Carlos, A.'\n",
        "\n",
        "def inverteNome(nome_completo):\n",
        "    nome, sobrenome = nome_completo.split()\n",
        "    return f'{sobrenome}, {nome[0]}.'\n"
      ],
      "metadata": {
        "id": "Wq4bwE_tPNQL"
      },
      "execution_count": null,
      "outputs": []
    },
    {
      "cell_type": "code",
      "source": [
        "#3.40 Implemente a função med(), que aceita como entrada uma lista que contém listas de\n",
        "#números. Cada lista de números representa as notas que determinado aluno recebeu para um curso. Por exemplo, aqui está uma lista de entrada para uma classe de quatro alunos:\n",
        "\n",
        "#[[95, 92, 86, 87], [66, 54], [89, 72, 100], [33, 0, 0]]\n",
        "\n",
        "#A função avg deverá exibir, uma por linha, a nota média de cada aluno. Você pode considerar\n",
        "#que cada lista de notas não é vazia, mas não deve considerar que todo aluno tem o mesmo número\n",
        "#de notas.\n",
        "#>>> med([[95, 92, 86, 87], [66, 54], [89, 72, 100], [33, 0, 0]]) 90.0\n",
        "#60.0\n",
        "#87.0\n",
        "#11.0 \n",
        "\n",
        "def med(notas):\n",
        "    for aluno in notas:\n",
        "        soma = sum(aluno)\n",
        "        media = soma / len(aluno)\n",
        "        print(media)\n",
        "\n",
        "#Exemplo de Input \n",
        "med([[95, 92, 86, 87], [66, 54], [89, 72, 100], [33, 0, 0]])\n",
        "\n",
        "#Resultado Esperado\n",
        "90.0\n",
        "60.0\n",
        "87.0\n",
        "11.0"
      ],
      "metadata": {
        "id": "2gtN_rSEPNWJ"
      },
      "execution_count": null,
      "outputs": []
    },
    {
      "cell_type": "code",
      "source": [
        "#3.41 A função de jogo de computador acerto() utiliza cinco números como entrada: as\n",
        "#coordenadas x e y do centro e o raio de um círculo C, e as coordenadas x e y de um ponto P. A\n",
        "#função deverá retornar True se o ponto P estiver dentro ou sobre o círculo C e False caso\n",
        "#contrário.\n",
        "#>>> acerto(0, 0, 3, 3, 0)\n",
        "#True\n",
        "#>>> acerto(0, 0, 3, 4, 0)\n",
        "#False"
      ],
      "metadata": {
        "id": "Ez5mosIrPNdX"
      },
      "execution_count": null,
      "outputs": []
    },
    {
      "cell_type": "markdown",
      "source": [
        "Para resolver esse problema, precisamos calcular a distância entre o centro do círculo e o ponto P. Se a distância for menor ou igual ao raio do círculo, então o ponto está dentro ou sobre o círculo.\n",
        "\n",
        "Podemos calcular a distância entre dois pontos (x1, y1) e (x2, y2) utilizando a fórmula da distância Euclidiana:\n",
        "\n",
        "distância = ((x2 - x1) ** 2 + (y2 - y1) ** 2) ** 0.5"
      ],
      "metadata": {
        "id": "shXAdp9NQRdK"
      }
    },
    {
      "cell_type": "code",
      "source": [
        "def acerto(xc, yc, rc, xp, yp):\n",
        "    distancia = ((xp - xc) ** 2 + (yp - yc) ** 2) ** 0.5\n",
        "    return distancia <= rc\n",
        "\n",
        "#Testando a Função\n",
        "\n",
        ">>> acerto(0, 0, 3, 3, 0)\n",
        "True\n",
        ">>> acerto(0, 0, 3, 4, 0)\n",
        "False\n"
      ],
      "metadata": {
        "id": "UUIN4J4wPNk5"
      },
      "execution_count": 3,
      "outputs": []
    },
    {
      "cell_type": "code",
      "source": [
        "#3.42 Implemente a função ion2e() que aceita uma string como entrada e retorna uma cópia da\n",
        "#palavra de volta com a seguinte mudança: se a palavra informada terminar com 'ion', então 'ion' é substituído por 'e'. >>> ion2e('congratulation')\n",
        "#'congratulate'\n",
        "#>>> ion2e('maratona')\n",
        "#'maratona'\n",
        "\n",
        "def ion2e(word):\n",
        "    if word.endswith('ion'):\n",
        "        return word[:-3] + 'e'\n",
        "    else:\n",
        "        return word\n",
        "\n",
        "#exemplo de entrada\n",
        ">>> ion2e('congratulation')\n",
        "'congratulate'\n",
        ">>> ion2e('maratona')\n",
        "'maratona'\n"
      ],
      "metadata": {
        "id": "tP-S_A8TPNrc"
      },
      "execution_count": null,
      "outputs": []
    },
    {
      "cell_type": "code",
      "source": [
        "#3.43 Escreva uma função distância() que tome como entrada um número: o tempo decorrido\n",
        "#(em segundos) entre o raio e o som do trovão. Sua função deverá retornar a distância até o local\n",
        "#em que o raio atinge o solo em quilômetros. Sabe-se que a velocidade do som é de\n",
        "#aproximadamente 340,29 metros por segundo e que há 1000 metros em um quilômetro.\n",
        "#>>> distância(3)\n",
        "#1.0208700000000002\n",
        "#>>> distância(6)\n",
        "#2.0417400000000003\n",
        "\n",
        "def distancia(tempo):\n",
        "    velocidade = 340.29 # metros por segundo\n",
        "    distancia = velocidade * tempo / 1000 # quilômetros\n",
        "    return distancia\n",
        "\n",
        "#exemplo de entrada\n",
        "\n",
        ">>> distancia(3)\n",
        "1.0208700000000002\n",
        ">>> distancia(6)\n",
        "2.0417400000000003\n"
      ],
      "metadata": {
        "id": "1ottr9JLQbKE"
      },
      "execution_count": null,
      "outputs": []
    },
    {
      "cell_type": "code",
      "source": [
        "#3.44 (Esse problema é baseado no Problema 2.28.) Implemente a função polígono() que\n",
        "#utiliza um número n mo entrada e desenha, usando Turtle graphics, um polígono regular\n",
        "#com n lados. \n",
        "\n",
        "import turtle\n",
        "\n",
        "def poligono(n):\n",
        "    # Verifica se n é válido (deve ser um número inteiro maior ou igual a 3)\n",
        "    if type(n) != int or n < 3:\n",
        "        print('n deve ser um número inteiro maior ou igual a 3')\n",
        "        return\n",
        "    \n",
        "    t = turtle.Turtle()\n",
        "    t.speed('fastest')\n",
        "    \n",
        "    # Desenha o polígono\n",
        "    for i in range(n):\n",
        "        t.forward(100)\n",
        "        t.left(360/n)\n",
        "    \n",
        "    turtle.done()\n",
        "\n",
        "#Resultados esperados\n",
        ">>> poligono(3) # Desenha um triângulo equilátero\n",
        ">>> poligono(5) # Desenha um pentágono regular\n",
        ">>> poligono(8) # Desenha um octógono regular\n"
      ],
      "metadata": {
        "id": "25eqbY2fQbPv"
      },
      "execution_count": null,
      "outputs": []
    },
    {
      "cell_type": "code",
      "source": [
        "#3.45 Usando Turtle graphics, implemente a função planetas(), que simulará o movimento\n",
        "#planetário de Mercúrio, Vênus, Terra e Marte durante uma rotação do planeta Marte. Você pode\n",
        "#considerar que:\n",
        "#(a)No início da simulação, todos os planetas estão alinhados (digamos, ao longo do\n",
        "#eixo y negativo).\n",
        "#(b)As distâncias de Mercúrio, Vênus, Terra e Marte a partir do Sol (o centro de rotação)\n",
        "#são representadas com 58, 108, 150 e 228 pixels.\n",
        "#(c)Para cada 1 grau de movimento circular de Marte, Terra, Vênus e Mercúrio se\n",
        "#moverão 2, 3 e 7,5 graus, respectivamente\n",
        "\n",
        "import turtle\n",
        "import math\n",
        "\n",
        "def planetas():\n",
        "    # Cria a tela de desenho\n",
        "    tela = turtle.Screen()\n",
        "    tela.bgcolor('black')\n",
        "\n",
        "    sol = turtle.Turtle()\n",
        "    terra = turtle.Turtle()\n",
        "    venus = turtle.Turtle()\n",
        "    mercurio = turtle.Turtle()\n",
        "    marte = turtle.Turtle()\n",
        "\n",
        "    sol.color('yellow')\n",
        "    terra.color('blue')\n",
        "    venus.color('orange')\n",
        "    mercurio.color('brown')\n",
        "    marte.color('red')\n",
        "\n",
        "    sol.shapesize(2)\n",
        "    terra.shapesize(0.5)\n",
        "    venus.shapesize(0.8)\n",
        "    mercurio.shapesize(0.4)\n",
        "    marte.shapesize(1.2)\n",
        "\n",
        "    # Configura a posição inicial de cada planeta\n",
        "    terra.penup()\n",
        "    terra.goto(0, -150)\n",
        "    terra.pendown()\n",
        "\n",
        "    venus.penup()\n",
        "    venus.goto(0, -108)\n",
        "    venus.pendown()\n",
        "\n",
        "    mercurio.penup()\n",
        "    mercurio.goto(0, -58)\n",
        "    mercurio.pendown()\n",
        "\n",
        "    marte.penup()\n",
        "    marte.goto(0, -228)\n",
        "    marte.pendown()\n",
        "\n",
        "    # Configura a posição inicial do Sol\n",
        "    sol.goto(0, 0)\n",
        "\n",
        "    # Configura o ângulo inicial\n",
        "    angulo = 0\n",
        "\n",
        "    # Executa a simulação por 360 graus de Marte\n",
        "    while angulo < 360:\n",
        "        # Calcula a posição de cada planeta\n",
        "        terra.setposition(150 * math.sin(math.radians(angulo * 2)), -150 * math.cos(math.radians(angulo * 2 * 3)))\n",
        "        venus.setposition(108 * math.sin(math.radians(angulo * 2)), -108 * math.cos(math.radians(angulo * 2 * 2)))\n",
        "        mercurio.setposition(58 * math.sin(math.radians(angulo * 7.5)), -58 * math.cos(math.radians(angulo * 7.5 * 13)))\n",
        "        marte.setposition(228 * math.sin(math.radians(angulo)), -228 * math.cos(math.radians(angulo)))\n",
        "\n",
        "        # Incrementa o ângulo\n",
        "        angulo += 1\n",
        "\n",
        "    # Finaliza a simulação\n",
        "    turtle.done()\n"
      ],
      "metadata": {
        "id": "_AByGGFxQbV4"
      },
      "execution_count": null,
      "outputs": []
    }
  ]
}